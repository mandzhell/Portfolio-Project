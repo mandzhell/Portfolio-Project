{
 "cells": [
  {
   "cell_type": "code",
   "execution_count": 80,
   "id": "f2ba1d41-85eb-4908-ac52-5e76aaa4ecb8",
   "metadata": {},
   "outputs": [],
   "source": [
    "from sklearn.cluster import KMeans\n",
    "import pandas as pd\n",
    "import numpy as np\n",
    "from sklearn.preprocessing import MinMaxScaler\n",
    "from matplotlib import pyplot as plt\n",
    "%matplotlib inline"
   ]
  },
  {
   "cell_type": "code",
   "execution_count": 81,
   "id": "37c02cc1-ed88-4fac-a9d6-632b348e1e39",
   "metadata": {},
   "outputs": [],
   "source": [
    "data = pd.read_csv('honda_car_selling.csv')"
   ]
  },
  {
   "cell_type": "code",
   "execution_count": 82,
   "id": "38e22ada-e6da-4b10-af04-879f81dbe19a",
   "metadata": {},
   "outputs": [
    {
     "data": {
      "text/html": [
       "<div>\n",
       "<style scoped>\n",
       "    .dataframe tbody tr th:only-of-type {\n",
       "        vertical-align: middle;\n",
       "    }\n",
       "\n",
       "    .dataframe tbody tr th {\n",
       "        vertical-align: top;\n",
       "    }\n",
       "\n",
       "    .dataframe thead th {\n",
       "        text-align: right;\n",
       "    }\n",
       "</style>\n",
       "<table border=\"1\" class=\"dataframe\">\n",
       "  <thead>\n",
       "    <tr style=\"text-align: right;\">\n",
       "      <th></th>\n",
       "      <th>Year</th>\n",
       "      <th>kms Driven</th>\n",
       "      <th>Fuel Type</th>\n",
       "      <th>Suspension</th>\n",
       "      <th>Price</th>\n",
       "      <th>Car Model</th>\n",
       "    </tr>\n",
       "  </thead>\n",
       "  <tbody>\n",
       "    <tr>\n",
       "      <th>0</th>\n",
       "      <td>2019</td>\n",
       "      <td>19006 kms</td>\n",
       "      <td>Petrol</td>\n",
       "      <td>Automatic</td>\n",
       "      <td>9.29 Lakh</td>\n",
       "      <td>Honda City V CVT</td>\n",
       "    </tr>\n",
       "    <tr>\n",
       "      <th>1</th>\n",
       "      <td>2021</td>\n",
       "      <td>11936 kms</td>\n",
       "      <td>Petrol</td>\n",
       "      <td>Automatic</td>\n",
       "      <td>13.95 Lakh</td>\n",
       "      <td>Honda City ZX CVT</td>\n",
       "    </tr>\n",
       "    <tr>\n",
       "      <th>2</th>\n",
       "      <td>2018</td>\n",
       "      <td>29635 kms</td>\n",
       "      <td>Petrol</td>\n",
       "      <td>Automatic</td>\n",
       "      <td>9.95 Lakh</td>\n",
       "      <td>Honda City i-VTEC CVT ZX</td>\n",
       "    </tr>\n",
       "    <tr>\n",
       "      <th>3</th>\n",
       "      <td>2020</td>\n",
       "      <td>16163 kms</td>\n",
       "      <td>Petrol</td>\n",
       "      <td>Automatic</td>\n",
       "      <td>13.26 Lakh</td>\n",
       "      <td>Honda City ZX CVT</td>\n",
       "    </tr>\n",
       "    <tr>\n",
       "      <th>4</th>\n",
       "      <td>2015</td>\n",
       "      <td>105114 kms</td>\n",
       "      <td>Petrol</td>\n",
       "      <td>Manual</td>\n",
       "      <td>5.68 Lakh</td>\n",
       "      <td>Honda City i VTEC V</td>\n",
       "    </tr>\n",
       "  </tbody>\n",
       "</table>\n",
       "</div>"
      ],
      "text/plain": [
       "   Year   kms Driven Fuel Type  Suspension        Price  \\\n",
       "0  2019   19006 kms    Petrol    Automatic    9.29 Lakh   \n",
       "1  2021   11936 kms    Petrol    Automatic   13.95 Lakh   \n",
       "2  2018   29635 kms    Petrol    Automatic    9.95 Lakh   \n",
       "3  2020   16163 kms    Petrol    Automatic   13.26 Lakh   \n",
       "4  2015  105114 kms    Petrol       Manual    5.68 Lakh   \n",
       "\n",
       "                  Car Model  \n",
       "0          Honda City V CVT  \n",
       "1         Honda City ZX CVT  \n",
       "2  Honda City i-VTEC CVT ZX  \n",
       "3         Honda City ZX CVT  \n",
       "4       Honda City i VTEC V  "
      ]
     },
     "execution_count": 82,
     "metadata": {},
     "output_type": "execute_result"
    }
   ],
   "source": [
    "data.head()"
   ]
  },
  {
   "cell_type": "code",
   "execution_count": 83,
   "id": "91effbde-f79a-48c7-b2ee-1d5c3c49977a",
   "metadata": {},
   "outputs": [
    {
     "name": "stdout",
     "output_type": "stream",
     "text": [
      "<class 'pandas.core.frame.DataFrame'>\n",
      "RangeIndex: 999 entries, 0 to 998\n",
      "Data columns (total 6 columns):\n",
      " #   Column      Non-Null Count  Dtype \n",
      "---  ------      --------------  ----- \n",
      " 0   Year        999 non-null    int64 \n",
      " 1   kms Driven  999 non-null    object\n",
      " 2   Fuel Type   999 non-null    object\n",
      " 3   Suspension  999 non-null    object\n",
      " 4   Price       999 non-null    object\n",
      " 5   Car Model   999 non-null    object\n",
      "dtypes: int64(1), object(5)\n",
      "memory usage: 47.0+ KB\n"
     ]
    }
   ],
   "source": [
    "data.info()"
   ]
  },
  {
   "cell_type": "code",
   "execution_count": 84,
   "id": "2b917648-e424-4cda-817b-511942f70b40",
   "metadata": {},
   "outputs": [
    {
     "data": {
      "text/html": [
       "<div>\n",
       "<style scoped>\n",
       "    .dataframe tbody tr th:only-of-type {\n",
       "        vertical-align: middle;\n",
       "    }\n",
       "\n",
       "    .dataframe tbody tr th {\n",
       "        vertical-align: top;\n",
       "    }\n",
       "\n",
       "    .dataframe thead th {\n",
       "        text-align: right;\n",
       "    }\n",
       "</style>\n",
       "<table border=\"1\" class=\"dataframe\">\n",
       "  <thead>\n",
       "    <tr style=\"text-align: right;\">\n",
       "      <th></th>\n",
       "      <th>Year</th>\n",
       "    </tr>\n",
       "  </thead>\n",
       "  <tbody>\n",
       "    <tr>\n",
       "      <th>count</th>\n",
       "      <td>999.000000</td>\n",
       "    </tr>\n",
       "    <tr>\n",
       "      <th>mean</th>\n",
       "      <td>2014.717718</td>\n",
       "    </tr>\n",
       "    <tr>\n",
       "      <th>std</th>\n",
       "      <td>3.713756</td>\n",
       "    </tr>\n",
       "    <tr>\n",
       "      <th>min</th>\n",
       "      <td>2000.000000</td>\n",
       "    </tr>\n",
       "    <tr>\n",
       "      <th>25%</th>\n",
       "      <td>2013.000000</td>\n",
       "    </tr>\n",
       "    <tr>\n",
       "      <th>50%</th>\n",
       "      <td>2015.000000</td>\n",
       "    </tr>\n",
       "    <tr>\n",
       "      <th>75%</th>\n",
       "      <td>2017.000000</td>\n",
       "    </tr>\n",
       "    <tr>\n",
       "      <th>max</th>\n",
       "      <td>2023.000000</td>\n",
       "    </tr>\n",
       "  </tbody>\n",
       "</table>\n",
       "</div>"
      ],
      "text/plain": [
       "              Year\n",
       "count   999.000000\n",
       "mean   2014.717718\n",
       "std       3.713756\n",
       "min    2000.000000\n",
       "25%    2013.000000\n",
       "50%    2015.000000\n",
       "75%    2017.000000\n",
       "max    2023.000000"
      ]
     },
     "execution_count": 84,
     "metadata": {},
     "output_type": "execute_result"
    }
   ],
   "source": [
    "data.describe()"
   ]
  },
  {
   "cell_type": "code",
   "execution_count": 85,
   "id": "299a7ea3-6611-4614-8fcf-5bd9ca123395",
   "metadata": {},
   "outputs": [],
   "source": [
    "from sklearn.preprocessing import StandardScaler, MinMaxScaler\n",
    "from sklearn.model_selection import train_test_split\n",
    "from sklearn.linear_model import LinearRegression\n",
    "from sklearn.tree import DecisionTreeClassifier\n",
    "from sklearn.cluster import KMeans"
   ]
  },
  {
   "cell_type": "code",
   "execution_count": 86,
   "id": "e5060b0b-4a50-4b07-8859-6f64dc35b3aa",
   "metadata": {},
   "outputs": [
    {
     "data": {
      "text/plain": [
       "Year          0\n",
       "kms Driven    0\n",
       "Fuel Type     0\n",
       "Suspension    0\n",
       "Price         0\n",
       "Car Model     0\n",
       "dtype: int64"
      ]
     },
     "execution_count": 86,
     "metadata": {},
     "output_type": "execute_result"
    }
   ],
   "source": [
    "data.isnull().sum()"
   ]
  },
  {
   "cell_type": "code",
   "execution_count": 87,
   "id": "fa85b4df-e7eb-4128-8276-d2ee792b2498",
   "metadata": {},
   "outputs": [
    {
     "data": {
      "text/html": [
       "<div>\n",
       "<style scoped>\n",
       "    .dataframe tbody tr th:only-of-type {\n",
       "        vertical-align: middle;\n",
       "    }\n",
       "\n",
       "    .dataframe tbody tr th {\n",
       "        vertical-align: top;\n",
       "    }\n",
       "\n",
       "    .dataframe thead th {\n",
       "        text-align: right;\n",
       "    }\n",
       "</style>\n",
       "<table border=\"1\" class=\"dataframe\">\n",
       "  <thead>\n",
       "    <tr style=\"text-align: right;\">\n",
       "      <th></th>\n",
       "      <th>Year</th>\n",
       "      <th>kms Driven</th>\n",
       "      <th>Fuel Type</th>\n",
       "      <th>Suspension</th>\n",
       "      <th>Price</th>\n",
       "      <th>Car Model</th>\n",
       "    </tr>\n",
       "  </thead>\n",
       "  <tbody>\n",
       "    <tr>\n",
       "      <th>0</th>\n",
       "      <td>2019</td>\n",
       "      <td>19006 kms</td>\n",
       "      <td>Petrol</td>\n",
       "      <td>Automatic</td>\n",
       "      <td>9.29 Lakh</td>\n",
       "      <td>Honda City V CVT</td>\n",
       "    </tr>\n",
       "    <tr>\n",
       "      <th>1</th>\n",
       "      <td>2021</td>\n",
       "      <td>11936 kms</td>\n",
       "      <td>Petrol</td>\n",
       "      <td>Automatic</td>\n",
       "      <td>13.95 Lakh</td>\n",
       "      <td>Honda City ZX CVT</td>\n",
       "    </tr>\n",
       "    <tr>\n",
       "      <th>2</th>\n",
       "      <td>2018</td>\n",
       "      <td>29635 kms</td>\n",
       "      <td>Petrol</td>\n",
       "      <td>Automatic</td>\n",
       "      <td>9.95 Lakh</td>\n",
       "      <td>Honda City i-VTEC CVT ZX</td>\n",
       "    </tr>\n",
       "    <tr>\n",
       "      <th>3</th>\n",
       "      <td>2020</td>\n",
       "      <td>16163 kms</td>\n",
       "      <td>Petrol</td>\n",
       "      <td>Automatic</td>\n",
       "      <td>13.26 Lakh</td>\n",
       "      <td>Honda City ZX CVT</td>\n",
       "    </tr>\n",
       "    <tr>\n",
       "      <th>4</th>\n",
       "      <td>2015</td>\n",
       "      <td>105114 kms</td>\n",
       "      <td>Petrol</td>\n",
       "      <td>Manual</td>\n",
       "      <td>5.68 Lakh</td>\n",
       "      <td>Honda City i VTEC V</td>\n",
       "    </tr>\n",
       "    <tr>\n",
       "      <th>...</th>\n",
       "      <td>...</td>\n",
       "      <td>...</td>\n",
       "      <td>...</td>\n",
       "      <td>...</td>\n",
       "      <td>...</td>\n",
       "      <td>...</td>\n",
       "    </tr>\n",
       "    <tr>\n",
       "      <th>956</th>\n",
       "      <td>2015</td>\n",
       "      <td>59900 kms</td>\n",
       "      <td>Petrol</td>\n",
       "      <td>Automatic</td>\n",
       "      <td>5.65 Lakh</td>\n",
       "      <td>Honda Jazz 1.2 V AT i VTE</td>\n",
       "    </tr>\n",
       "    <tr>\n",
       "      <th>957</th>\n",
       "      <td>2016</td>\n",
       "      <td>37000 kms</td>\n",
       "      <td>Petrol</td>\n",
       "      <td>Manual</td>\n",
       "      <td>6.95 Lakh</td>\n",
       "      <td>Honda City i VTEC VX Opti</td>\n",
       "    </tr>\n",
       "    <tr>\n",
       "      <th>958</th>\n",
       "      <td>2018</td>\n",
       "      <td>120000 kms</td>\n",
       "      <td>Diesel</td>\n",
       "      <td>Manual</td>\n",
       "      <td>9 Lakh</td>\n",
       "      <td>Honda City i-DTEC ZX</td>\n",
       "    </tr>\n",
       "    <tr>\n",
       "      <th>959</th>\n",
       "      <td>2010</td>\n",
       "      <td>100000 kms</td>\n",
       "      <td>Petrol</td>\n",
       "      <td>Manual</td>\n",
       "      <td>3 Lakh</td>\n",
       "      <td>Honda Accord 2.4 MT</td>\n",
       "    </tr>\n",
       "    <tr>\n",
       "      <th>979</th>\n",
       "      <td>2017</td>\n",
       "      <td>8602 kms</td>\n",
       "      <td>Petrol</td>\n",
       "      <td>Manual</td>\n",
       "      <td>7.25 Lakh</td>\n",
       "      <td>Honda City V MT AVN</td>\n",
       "    </tr>\n",
       "  </tbody>\n",
       "</table>\n",
       "<p>950 rows × 6 columns</p>\n",
       "</div>"
      ],
      "text/plain": [
       "     Year   kms Driven Fuel Type  Suspension        Price  \\\n",
       "0    2019   19006 kms    Petrol    Automatic    9.29 Lakh   \n",
       "1    2021   11936 kms    Petrol    Automatic   13.95 Lakh   \n",
       "2    2018   29635 kms    Petrol    Automatic    9.95 Lakh   \n",
       "3    2020   16163 kms    Petrol    Automatic   13.26 Lakh   \n",
       "4    2015  105114 kms    Petrol       Manual    5.68 Lakh   \n",
       "..    ...          ...       ...         ...          ...   \n",
       "956  2015   59900 kms    Petrol    Automatic    5.65 Lakh   \n",
       "957  2016   37000 kms    Petrol       Manual    6.95 Lakh   \n",
       "958  2018  120000 kms    Diesel       Manual       9 Lakh   \n",
       "959  2010  100000 kms    Petrol       Manual       3 Lakh   \n",
       "979  2017    8602 kms    Petrol       Manual    7.25 Lakh   \n",
       "\n",
       "                     Car Model  \n",
       "0             Honda City V CVT  \n",
       "1            Honda City ZX CVT  \n",
       "2     Honda City i-VTEC CVT ZX  \n",
       "3            Honda City ZX CVT  \n",
       "4          Honda City i VTEC V  \n",
       "..                         ...  \n",
       "956  Honda Jazz 1.2 V AT i VTE  \n",
       "957  Honda City i VTEC VX Opti  \n",
       "958       Honda City i-DTEC ZX  \n",
       "959        Honda Accord 2.4 MT  \n",
       "979        Honda City V MT AVN  \n",
       "\n",
       "[950 rows x 6 columns]"
      ]
     },
     "execution_count": 87,
     "metadata": {},
     "output_type": "execute_result"
    }
   ],
   "source": [
    "data.drop_duplicates(keep=False)"
   ]
  },
  {
   "cell_type": "code",
   "execution_count": 88,
   "id": "f92ded6f-bf37-4b64-8e7f-0c0643a3a640",
   "metadata": {},
   "outputs": [
    {
     "data": {
      "text/plain": [
       "Year          0.0\n",
       "kms Driven    0.0\n",
       "Fuel Type     0.0\n",
       "Suspension    0.0\n",
       "Price         0.0\n",
       "Car Model     0.0\n",
       "dtype: float64"
      ]
     },
     "execution_count": 88,
     "metadata": {},
     "output_type": "execute_result"
    }
   ],
   "source": [
    "data.isna().mean() * 100 "
   ]
  },
  {
   "cell_type": "code",
   "execution_count": 89,
   "id": "a53bbe5e-59ad-4247-a61e-4369506025d5",
   "metadata": {},
   "outputs": [
    {
     "data": {
      "text/plain": [
       "array(['Honda City V CVT', 'Honda City ZX CVT',\n",
       "       'Honda City i-VTEC CVT ZX', 'Honda City i VTEC V',\n",
       "       'Honda City i DTEC S', 'Honda Jazz 1.5 SV i DTEC',\n",
       "       'Honda City i DTEC VX', 'Honda WR-V i-VTEC VX',\n",
       "       'Honda Amaze V CVT Petrol ', 'Honda Jazz 1.2 V i VTEC',\n",
       "       'Honda City VX MT', 'Honda City i VTEC VX',\n",
       "       'Honda Amaze S i-Vtech', 'Honda Jazz 1.2 V AT i VTE',\n",
       "       'Honda Amaze S Petrol', 'Honda WR-V i-DTEC VX',\n",
       "       'Honda Jazz 1.5 S i DTEC', 'Honda Amaze S i-DTEC',\n",
       "       'Honda Amaze S i-Dtech', 'Honda City i DTEC V',\n",
       "       'Honda City VX CVT', 'Honda Brio S MT', 'Honda Brio S Option MT',\n",
       "       'Honda Brio 1.2 S MT', 'Honda Amaze V CVT Diesel ',\n",
       "       'Honda Jazz 1.2 VX i VTEC', 'Honda Amaze VX AT i-Vtech',\n",
       "       'Honda City V MT', 'Honda Amaze VX i-DTEC', 'Honda City ZX MT',\n",
       "       'Honda City i VTEC SV', 'Honda Brio 1.2 VX MT',\n",
       "       'Honda Amaze E i-DTEC', 'Honda City i VTEC CVT VX',\n",
       "       'Honda City i DTEC SV', 'Honda Amaze VX i-Vtech',\n",
       "       'Honda Amaze SX i VTEC', 'Honda Amaze S Plus i-VTEC',\n",
       "       'Honda City S', 'Honda City V AT', 'Honda City 1.5 V MT Exclu',\n",
       "       'Honda City i-VTEC CVT VX', 'Honda City VTEC', 'Honda Jazz V CVT',\n",
       "       'Honda City 1.5 V AT', 'Honda City 1.5 S MT',\n",
       "       'Honda City 1.5 V MT', 'Honda Accord 2.4 AT',\n",
       "       'Honda Accord 2.4 Elegance', 'Honda Mobilio S i-DTEC',\n",
       "       'Honda Civic 1.8 V MT', 'Honda Jazz 1.5 V i DTEC',\n",
       "       'Honda Amaze E i-Dtech', 'Honda Jazz V',\n",
       "       'Honda Amaze VX CVT i-VTEC', 'Honda CR-V RVi MT',\n",
       "       'Honda City 1.5 S AT', 'Honda BR-V i-VTEC V CVT',\n",
       "       'Honda City i-VTEC SV', 'Honda Civic 1.8 V AT',\n",
       "       'Honda City i-VTEC CVT V', 'Honda Amaze S i-VTEC',\n",
       "       'Honda City i-VTEC V', 'Honda WR-V SV', 'Honda City i-VTEC ZX',\n",
       "       'Honda Amaze S Petrol BSIV', 'Honda Amaze V Petrol BSIV',\n",
       "       'Honda Brio EX MT', 'Honda Amaze VX Diesel BSI',\n",
       "       'Honda City SV MT', 'Honda Amaze VX Petrol',\n",
       "       'Honda Amaze S Option i-VT', 'Honda Jazz Select Edition',\n",
       "       'Honda Accord 2.4 MT', 'Honda City i VTEC S',\n",
       "       'Honda Amaze E i-Vtech', 'Honda Amaze S AT i-Vtech',\n",
       "       'Honda WR-V i-VTEC S', 'Honda BR-V i-VTEC V MT',\n",
       "       'Honda City i DTec VX Opti', 'Honda Jazz 1.2 SV i VTEC',\n",
       "       'Honda City Anniversary i-', 'Honda City i-DTEC ZX',\n",
       "       'Honda CR-V 2.0 CVT', 'Honda WR-V VX', 'Honda CR-V 2.4L 4WD AT',\n",
       "       'Honda Jazz 1.2 S AT i VTE', 'Honda BR-V i-VTEC E MT',\n",
       "       'Honda City i DTec VX', 'Honda Amaze EX i-Vtech',\n",
       "       'Honda City i VTEC CVT SV', 'Honda Amaze E i-VTEC',\n",
       "       'Honda Amaze S', 'Honda Brio VX', 'Honda City E', 'Honda City GXi',\n",
       "       'Honda City EXi', 'Honda Brio V MT', 'Honda Amaze SX i-VTEC',\n",
       "       'Honda Jazz 1.2 E i VTEC', 'Honda Mobilio S i-VTEC',\n",
       "       'Honda Mobilio V i-VTEC', 'Honda BR-V i-VTEC S MT', 'Honda Jazz S',\n",
       "       'Honda Jazz Basic', 'Honda Amaze VX CVT Petrol',\n",
       "       'Honda Amaze S CVT Petrol ', 'Honda City i-DTEC VX',\n",
       "       'Honda Amaze VX CVT', 'Honda City 1.5 E MT',\n",
       "       'Honda Amaze S Option i-DT', 'Honda Amaze VX i-VTEC',\n",
       "       'Honda City i-VTEC VX', 'Honda BR-V i-DTEC S MT',\n",
       "       'Honda City i VTEC VX Opti', 'Honda WR-V i-DTEC S',\n",
       "       'Honda City 1.5 GXI', 'Honda CR-V 2.4 4WD AT',\n",
       "       'Honda CR-V Diesel 2WD', 'Honda Civic VX',\n",
       "       'Honda WR-V Edge Edition i', 'Honda Jazz X',\n",
       "       'Honda Jazz 1.5 VX i DTEC', 'Honda City i DTec V',\n",
       "       'Honda CR-V 2.4 AT', 'Honda Amaze S Diesel',\n",
       "       'Honda Amaze SX i-DTEC', 'Honda Civic VX BSIV',\n",
       "       'Honda Civic 1.8 MT Sport', 'Honda City 1.5 EXI',\n",
       "       'Honda Brio V AT', 'Honda Amaze i-DTEC Privil',\n",
       "       'Honda Amaze S CVT Diesel ', 'Honda Civic 1.8 (E) MT',\n",
       "       'Honda Amaze E Option i-DT', 'Honda Jazz VX CVT',\n",
       "       'Honda Amaze Exclusive Edi', 'Honda CR-V 2.4L 4WD AT AV',\n",
       "       'Honda City i DTec SV', 'Honda Amaze VX Petrol BSI',\n",
       "       'Honda BR-V i-DTEC V MT', 'Honda Amaze E Petrol BSIV',\n",
       "       'Honda Mobilio V i-DTEC', 'Honda Civic 1.8 S AT',\n",
       "       'Honda City i DTEC VX Opti', 'Honda Civic 1.8 S MT',\n",
       "       'Honda City i-DTEC V', 'Honda Mobilio RS i-DTEC',\n",
       "       'Honda BR-V i-VTEC VX MT', 'Honda Accord 2.4 M/T',\n",
       "       'Honda Amaze S CVT i-VTEC', 'Honda Civic 1.8 V AT Insp',\n",
       "       'Honda Amaze EX i-Dtech', 'Honda City Corporate Edit',\n",
       "       'Honda Amaze V CVT Petrol', 'Honda CR-V 2.0L 2WD AT',\n",
       "       'Honda Amaze VX i DTEC', 'Honda CR-V 2.0L 2WD MT',\n",
       "       'Honda Mobilio V Option i-', 'Honda Jazz 1.2 S i VTEC',\n",
       "       'Honda Amaze VX O iDTEC', 'Honda Amaze V Diesel',\n",
       "       'Honda City i DTEC E', 'Honda Amaze S CVT',\n",
       "       'Honda City 1.5 V AT Sunro', 'Honda City i-VTEC S',\n",
       "       'Honda Mobilio E i-DTEC', 'Honda Brio VX AT',\n",
       "       'Honda Accord VTi-L (AT)', 'Honda City 1.3 DX',\n",
       "       'Honda Mobilio RS Option i', 'Honda Amaze Exclusive Die',\n",
       "       'Honda Jazz VX', 'Honda Civic VX Diesel', 'Honda CR-V Petrol 2WD',\n",
       "       'Honda Amaze S Diesel BSIV', 'Honda CR-V 2.0 2WD',\n",
       "       'Honda City 1.5 GXI CVT', 'Honda Amaze VX CVT Diesel',\n",
       "       'Honda City V MT AVN', 'Honda City 1.5 V MT Sunro',\n",
       "       'Honda WR-V VX Diesel', 'Honda Civic ZX'], dtype=object)"
      ]
     },
     "execution_count": 89,
     "metadata": {},
     "output_type": "execute_result"
    }
   ],
   "source": [
    "data['Car Model'].unique()"
   ]
  },
  {
   "cell_type": "markdown",
   "id": "df2acc7e-49b3-4f21-95b1-9457d1de1d2e",
   "metadata": {},
   "source": [
    "# Merubah data dengan satuan menjadi angka saja (bahasa indonesia)\n",
    "# Change the data with just numerical values"
   ]
  },
  {
   "cell_type": "code",
   "execution_count": 90,
   "id": "e564434a-4f8d-4801-9b32-ce02d6f0574d",
   "metadata": {},
   "outputs": [],
   "source": [
    "data[\"kms Driven\"] = data[\"kms Driven\"].str.strip()"
   ]
  },
  {
   "cell_type": "code",
   "execution_count": 14,
   "id": "74072de5-2150-4ee5-a99b-f7460df085f8",
   "metadata": {},
   "outputs": [
    {
     "name": "stdout",
     "output_type": "stream",
     "text": [
      "0       19006 kms\n",
      "1       11936 kms\n",
      "2       29635 kms\n",
      "3       16163 kms\n",
      "4      105114 kms\n",
      "          ...    \n",
      "994     90000 kms\n",
      "995     31500 kms\n",
      "996     39735 kms\n",
      "997     36000 kms\n",
      "998     35341 kms\n",
      "Name: kms Driven, Length: 999, dtype: object\n"
     ]
    }
   ],
   "source": [
    "print(data['kms Driven'])"
   ]
  },
  {
   "cell_type": "code",
   "execution_count": 91,
   "id": "1c4d7f01-ce1f-4918-9b15-21d3472566d3",
   "metadata": {},
   "outputs": [],
   "source": [
    "data[\"kms Driven\"] = data[\"kms Driven\"].str.split().str.get(0)"
   ]
  },
  {
   "cell_type": "code",
   "execution_count": 92,
   "id": "38b56e13-d449-4976-be5a-b733e3b6115f",
   "metadata": {},
   "outputs": [
    {
     "name": "stdout",
     "output_type": "stream",
     "text": [
      "0       19006\n",
      "1       11936\n",
      "2       29635\n",
      "3       16163\n",
      "4      105114\n",
      "        ...  \n",
      "994     90000\n",
      "995     31500\n",
      "996     39735\n",
      "997     36000\n",
      "998     35341\n",
      "Name: kms Driven, Length: 999, dtype: object\n"
     ]
    }
   ],
   "source": [
    "print(data['kms Driven'])"
   ]
  },
  {
   "cell_type": "code",
   "execution_count": 93,
   "id": "641b658d-3d1c-424c-a047-ef23929c35d4",
   "metadata": {},
   "outputs": [],
   "source": [
    "data[\"kms Driven\"] = data[\"kms Driven\"].astype(int)"
   ]
  },
  {
   "cell_type": "code",
   "execution_count": 94,
   "id": "5063b864-78b5-49ba-87b0-c41eab633129",
   "metadata": {},
   "outputs": [],
   "source": [
    "data[\"Fuel Type\"] = data[\"Fuel Type\"].str.strip()"
   ]
  },
  {
   "cell_type": "code",
   "execution_count": 95,
   "id": "2cf5761d-cc6f-4ffc-9f88-0c5c93aa633c",
   "metadata": {},
   "outputs": [
    {
     "name": "stdout",
     "output_type": "stream",
     "text": [
      "0      Petrol\n",
      "1      Petrol\n",
      "2      Petrol\n",
      "3      Petrol\n",
      "4      Petrol\n",
      "        ...  \n",
      "994    Petrol\n",
      "995    Petrol\n",
      "996    Petrol\n",
      "997    Petrol\n",
      "998    Diesel\n",
      "Name: Fuel Type, Length: 999, dtype: object\n"
     ]
    }
   ],
   "source": [
    "print(data[\"Fuel Type\"])"
   ]
  },
  {
   "cell_type": "code",
   "execution_count": 96,
   "id": "4b18ccee-b1c9-4833-be50-cb8c54119945",
   "metadata": {},
   "outputs": [],
   "source": [
    "data[\"Suspension\"] = data[\"Suspension\"].str.strip()"
   ]
  },
  {
   "cell_type": "code",
   "execution_count": 97,
   "id": "b70552da-5572-4022-81e8-597626a34026",
   "metadata": {},
   "outputs": [
    {
     "name": "stdout",
     "output_type": "stream",
     "text": [
      "0      Automatic\n",
      "1      Automatic\n",
      "2      Automatic\n",
      "3      Automatic\n",
      "4         Manual\n",
      "         ...    \n",
      "994       Manual\n",
      "995       Manual\n",
      "996       Manual\n",
      "997       Manual\n",
      "998       Manual\n",
      "Name: Suspension, Length: 999, dtype: object\n"
     ]
    }
   ],
   "source": [
    "print(data[\"Suspension\"])"
   ]
  },
  {
   "cell_type": "code",
   "execution_count": 98,
   "id": "de5dbd3b-1a49-485c-a6b9-3ec3fe7244a0",
   "metadata": {},
   "outputs": [],
   "source": [
    "data[\"Price\"] = data[\"Price\"].str.strip()"
   ]
  },
  {
   "cell_type": "code",
   "execution_count": 99,
   "id": "a3a02cf0-8a20-47d0-9913-a2aad5c3167e",
   "metadata": {},
   "outputs": [
    {
     "name": "stdout",
     "output_type": "stream",
     "text": [
      "0       9.29 Lakh\n",
      "1      13.95 Lakh\n",
      "2       9.95 Lakh\n",
      "3      13.26 Lakh\n",
      "4       5.68 Lakh\n",
      "          ...    \n",
      "994     1.22 Lakh\n",
      "995     4.25 Lakh\n",
      "996     5.10 Lakh\n",
      "997     6.10 Lakh\n",
      "998        3 Lakh\n",
      "Name: Price, Length: 999, dtype: object\n"
     ]
    }
   ],
   "source": [
    "print(data[\"Price\"])"
   ]
  },
  {
   "cell_type": "code",
   "execution_count": 100,
   "id": "226c9ef6-09b6-438e-9240-641ef3242e13",
   "metadata": {},
   "outputs": [],
   "source": [
    "# membersihkan dan mengonversi kolom \"Price\" dalam sebuah DataFrame\n",
    "# clean and convert price column\n",
    "def price_cleaner(values):\n",
    "    output = values.split()\n",
    "    result = [eval(i) for i in output]\n",
    "    return np.prod(result)\n",
    "\n",
    "data[\"Price\"] = data[\"Price\"].str.strip()\n",
    "data[\"Price\"] = data[\"Price\"].str.replace(',','')\n",
    "data[\"Price\"] = data[\"Price\"].str.replace('Lakh','100000')\n",
    "data[\"Price\"] = data[\"Price\"].map(price_cleaner)"
   ]
  },
  {
   "cell_type": "code",
   "execution_count": 73,
   "id": "0dc9028c-fb99-43fd-90c9-e3c58969126f",
   "metadata": {},
   "outputs": [
    {
     "name": "stdout",
     "output_type": "stream",
     "text": [
      "0    400000\n",
      "1    600000\n",
      "2    800000\n",
      "3    300000\n",
      "4    200000\n",
      "5    700000\n",
      "6    500000\n",
      "7    450000\n",
      "8    150000\n",
      "9    900000\n",
      "Name: Price, dtype: int64\n"
     ]
    }
   ],
   "source": [
    "print(data[\"Price\"])"
   ]
  },
  {
   "cell_type": "code",
   "execution_count": 74,
   "id": "11533744-f0e8-413f-9b97-db5b398098c6",
   "metadata": {},
   "outputs": [],
   "source": [
    "data[\"Price\"] = data[\"Price\"].astype(int) #mengonversi kolom \"Price\" dalam DataFrame data ke tipe data integer."
   ]
  },
  {
   "cell_type": "code",
   "execution_count": 101,
   "id": "f978037b-05c5-45f5-9396-9c2f0c57bea9",
   "metadata": {},
   "outputs": [
    {
     "name": "stdout",
     "output_type": "stream",
     "text": [
      "0       929000.0\n",
      "1      1395000.0\n",
      "2       995000.0\n",
      "3      1326000.0\n",
      "4       568000.0\n",
      "         ...    \n",
      "994     122000.0\n",
      "995     425000.0\n",
      "996     510000.0\n",
      "997     610000.0\n",
      "998     300000.0\n",
      "Name: Price, Length: 999, dtype: float64\n"
     ]
    }
   ],
   "source": [
    "print(data[\"Price\"]) "
   ]
  },
  {
   "cell_type": "code",
   "execution_count": 102,
   "id": "92b76f8c-5fd0-47b1-acb9-6c1402b4117f",
   "metadata": {},
   "outputs": [
    {
     "data": {
      "text/plain": [
       "Text(0, 0.5, 'Price')"
      ]
     },
     "execution_count": 102,
     "metadata": {},
     "output_type": "execute_result"
    },
    {
     "data": {
      "image/png": "[encoded data removed]",
      "text/plain": [
       "<Figure size 2500x1500 with 1 Axes>"
      ]
     },
     "metadata": {},
     "output_type": "display_data"
    }
   ],
   "source": [
    "plt.figure(figsize = (25,15))\n",
    "plt.scatter(data.Year,data['Price'])\n",
    "plt.xlabel('Year')\n",
    "plt.ylabel('Price')"
   ]
  },
  {
   "cell_type": "code",
   "execution_count": 103,
   "id": "ed56233a-9407-4501-881e-d06ea39f5f84",
   "metadata": {},
   "outputs": [
    {
     "data": {
      "text/plain": [
       "Text(0, 0.5, 'Price')"
      ]
     },
     "execution_count": 103,
     "metadata": {},
     "output_type": "execute_result"
    },
    {
     "data": {
      "image/png": "[encoded data removed]",
      "text/plain": [
       "<Figure size 640x480 with 1 Axes>"
      ]
     },
     "metadata": {},
     "output_type": "display_data"
    }
   ],
   "source": [
    "plt.scatter(data[\"kms Driven\"], data[\"Price\"])\n",
    "plt.xlabel('kms Driven')\n",
    "plt.ylabel('Price')"
   ]
  },
  {
   "cell_type": "code",
   "execution_count": 104,
   "id": "16b122d5-4451-4797-855e-5d47a9a1e0ea",
   "metadata": {},
   "outputs": [],
   "source": [
    "data_baru = data[[\"Car Model\", \"kms Driven\", \"Price\"]]"
   ]
  },
  {
   "cell_type": "code",
   "execution_count": 105,
   "id": "bf8483e6-e5e5-4bd2-8854-2872dee453a6",
   "metadata": {},
   "outputs": [
    {
     "name": "stdout",
     "output_type": "stream",
     "text": [
      "[                    Car Model  kms Driven      Price\n",
      "0            Honda City V CVT       19006   929000.0\n",
      "1           Honda City ZX CVT       11936  1395000.0\n",
      "2    Honda City i-VTEC CVT ZX       29635   995000.0\n",
      "3           Honda City ZX CVT       16163  1326000.0\n",
      "4         Honda City i VTEC V      105114   568000.0\n",
      "..                        ...         ...        ...\n",
      "994      Honda Civic 1.8 V MT       90000   122000.0\n",
      "995      Honda Amaze S i-VTEC       31500   425000.0\n",
      "996      Honda Amaze S Petrol       39735   510000.0\n",
      "997       Honda City i VTEC S       36000   610000.0\n",
      "998     Honda Amaze S i-Dtech       35341   300000.0\n",
      "\n",
      "[999 rows x 3 columns]]\n"
     ]
    }
   ],
   "source": [
    "print([data_baru])"
   ]
  },
  {
   "cell_type": "code",
   "execution_count": 106,
   "id": "b409d6b0-621d-449a-b9a4-ef2b275590e7",
   "metadata": {},
   "outputs": [],
   "source": [
    "from sklearn.cluster import KMeans"
   ]
  },
  {
   "cell_type": "code",
   "execution_count": 107,
   "id": "fdd29a57-ee56-4929-8db5-663e4cef504f",
   "metadata": {},
   "outputs": [
    {
     "data": {
      "text/plain": [
       "array([1, 2, 2, 2, 1, 1, 1, 1, 1, 1, 2, 2, 2, 0, 1, 2, 2, 1, 0, 1, 1, 1,\n",
       "       1, 1, 0, 1, 1, 1, 0, 1, 1, 1, 1, 2, 0, 0, 2, 0, 1, 1, 1, 1, 0, 0,\n",
       "       0, 1, 0, 0, 2, 2, 1, 1, 0, 1, 1, 1, 0, 0, 0, 0, 0, 1, 0, 1, 0, 0,\n",
       "       0, 0, 1, 0, 1, 1, 0, 0, 0, 1, 0, 0, 0, 1, 0, 0, 0, 0, 0, 0, 0, 0,\n",
       "       0, 0, 0, 1, 1, 1, 1, 2, 0, 0, 1, 1, 1, 0, 0, 1, 1, 0, 1, 1, 1, 0,\n",
       "       1, 1, 0, 1, 1, 2, 0, 2, 1, 1, 1, 0, 0, 1, 0, 0, 1, 1, 0, 1, 1, 0,\n",
       "       1, 1, 0, 1, 0, 0, 1, 0, 1, 1, 1, 0, 0, 0, 1, 1, 1, 1, 0, 2, 0, 1,\n",
       "       0, 1, 2, 0, 1, 0, 1, 0, 0, 1, 1, 1, 1, 1, 1, 1, 1, 1, 2, 1, 0, 1,\n",
       "       1, 1, 1, 1, 2, 0, 1, 0, 1, 1, 1, 1, 1, 2, 2, 2, 1, 0, 1, 1, 1, 0,\n",
       "       1, 1, 1, 1, 1, 0, 1, 0, 1, 0, 1, 1, 1, 1, 0, 1, 0, 1, 1, 1, 1, 0,\n",
       "       0, 0, 2, 0, 1, 1, 1, 0, 1, 0, 0, 1, 0, 0, 0, 1, 1, 0, 0, 1, 0, 2,\n",
       "       0, 1, 0, 1, 1, 0, 1, 0, 1, 0, 0, 0, 1, 1, 0, 0, 0, 0, 0, 0, 0, 1,\n",
       "       0, 1, 1, 0, 1, 2, 1, 0, 1, 1, 0, 1, 1, 0, 0, 2, 0, 0, 0, 1, 0, 0,\n",
       "       0, 0, 2, 0, 0, 1, 0, 1, 1, 1, 0, 0, 0, 1, 0, 0, 1, 1, 1, 0, 0, 1,\n",
       "       0, 1, 1, 1, 1, 1, 1, 0, 1, 1, 1, 1, 1, 0, 0, 0, 0, 2, 0, 0, 1, 0,\n",
       "       1, 0, 1, 0, 0, 0, 0, 0, 0, 1, 1, 0, 0, 1, 1, 1, 0, 0, 1, 2, 1, 0,\n",
       "       0, 0, 0, 1, 1, 0, 1, 0, 0, 0, 1, 1, 1, 0, 1, 1, 1, 0, 1, 1, 1, 1,\n",
       "       0, 0, 0, 1, 0, 0, 0, 0, 0, 0, 0, 0, 0, 0, 0, 1, 2, 1, 1, 1, 2, 1,\n",
       "       1, 2, 2, 1, 2, 1, 1, 1, 1, 2, 1, 1, 0, 0, 1, 0, 0, 0, 0, 1, 1, 2,\n",
       "       2, 1, 0, 1, 1, 0, 0, 2, 1, 2, 1, 0, 0, 1, 0, 0, 0, 1, 1, 0, 1, 2,\n",
       "       0, 1, 0, 2, 0, 0, 1, 0, 1, 1, 1, 2, 1, 0, 1, 2, 0, 0, 0, 0, 0, 1,\n",
       "       1, 1, 0, 1, 0, 1, 2, 2, 1, 1, 1, 1, 1, 0, 0, 0, 0, 0, 1, 1, 0, 0,\n",
       "       1, 0, 1, 0, 1, 1, 1, 1, 0, 1, 1, 0, 0, 0, 0, 1, 0, 0, 0, 0, 0, 1,\n",
       "       0, 0, 0, 1, 0, 0, 1, 1, 1, 1, 1, 1, 1, 1, 0, 0, 0, 2, 1, 1, 1, 0,\n",
       "       2, 0, 2, 0, 0, 2, 0, 0, 0, 0, 1, 1, 1, 1, 0, 0, 1, 0, 0, 0, 0, 0,\n",
       "       1, 0, 1, 0, 0, 0, 0, 0, 1, 1, 0, 0, 1, 0, 0, 1, 0, 1, 1, 1, 1, 0,\n",
       "       0, 1, 0, 0, 0, 0, 1, 1, 0, 1, 0, 1, 0, 0, 1, 0, 0, 1, 1, 0, 2, 1,\n",
       "       0, 0, 0, 0, 1, 1, 0, 0, 1, 1, 0, 1, 0, 1, 1, 1, 0, 1, 0, 1, 1, 0,\n",
       "       1, 1, 1, 1, 1, 0, 1, 0, 1, 0, 0, 0, 1, 1, 0, 0, 0, 0, 0, 1, 0, 0,\n",
       "       0, 0, 0, 1, 0, 1, 0, 0, 0, 1, 1, 2, 1, 2, 0, 0, 1, 1, 1, 1, 1, 1,\n",
       "       0, 1, 0, 1, 0, 0, 0, 2, 0, 0, 1, 0, 0, 1, 0, 0, 1, 1, 0, 0, 0, 0,\n",
       "       1, 2, 0, 0, 1, 0, 0, 1, 1, 1, 0, 1, 2, 2, 1, 1, 0, 0, 1, 0, 1, 0,\n",
       "       1, 1, 0, 1, 1, 0, 0, 0, 0, 0, 2, 0, 0, 1, 0, 1, 0, 0, 1, 2, 1, 0,\n",
       "       1, 0, 1, 0, 0, 0, 0, 0, 1, 1, 2, 0, 2, 1, 0, 1, 1, 0, 0, 1, 1, 0,\n",
       "       1, 1, 1, 1, 0, 0, 0, 0, 0, 0, 1, 1, 0, 1, 1, 0, 0, 1, 0, 0, 0, 0,\n",
       "       0, 1, 1, 0, 1, 2, 2, 0, 0, 0, 1, 1, 0, 1, 1, 1, 0, 1, 0, 0, 0, 0,\n",
       "       1, 0, 1, 0, 0, 2, 0, 0, 1, 0, 0, 1, 1, 0, 0, 1, 0, 0, 1, 0, 0, 1,\n",
       "       0, 1, 0, 0, 1, 2, 1, 1, 1, 1, 0, 1, 0, 0, 0, 0, 1, 0, 1, 0, 1, 1,\n",
       "       0, 1, 1, 0, 2, 1, 1, 0, 1, 1, 1, 0, 0, 1, 1, 0, 1, 0, 2, 0, 1, 1,\n",
       "       2, 0, 1, 1, 1, 0, 1, 2, 1, 1, 1, 1, 1, 0, 1, 0, 1, 1, 1, 1, 1, 1,\n",
       "       1, 0, 1, 0, 1, 1, 0, 1, 1, 1, 0, 1, 0, 0, 0, 1, 0, 2, 1, 1, 0, 1,\n",
       "       0, 1, 1, 1, 1, 2, 0, 0, 0, 0, 0, 2, 1, 0, 0, 2, 1, 0, 0, 0, 0, 0,\n",
       "       1, 1, 0, 0, 1, 2, 0, 0, 1, 1, 1, 1, 0, 1, 1, 0, 0, 1, 1, 2, 0, 0,\n",
       "       0, 0, 0, 1, 1, 0, 2, 1, 0, 0, 1, 1, 1, 0, 0, 0, 0, 1, 0, 1, 1, 0,\n",
       "       1, 0, 2, 0, 2, 0, 0, 0, 1, 1, 0, 1, 0, 0, 0, 1, 0, 1, 1, 0, 1, 0,\n",
       "       2, 0, 2, 0, 0, 0, 1, 1, 0], dtype=int32)"
      ]
     },
     "execution_count": 107,
     "metadata": {},
     "output_type": "execute_result"
    }
   ],
   "source": [
    "km = KMeans(n_clusters=3)\n",
    "y_predicted = km.fit_predict(data[['kms Driven','Price']])\n",
    "y_predicted"
   ]
  },
  {
   "cell_type": "code",
   "execution_count": 108,
   "id": "7bacc32e-f1b0-41c4-bd50-64c8c1881647",
   "metadata": {},
   "outputs": [
    {
     "data": {
      "text/html": [
       "<div>\n",
       "<style scoped>\n",
       "    .dataframe tbody tr th:only-of-type {\n",
       "        vertical-align: middle;\n",
       "    }\n",
       "\n",
       "    .dataframe tbody tr th {\n",
       "        vertical-align: top;\n",
       "    }\n",
       "\n",
       "    .dataframe thead th {\n",
       "        text-align: right;\n",
       "    }\n",
       "</style>\n",
       "<table border=\"1\" class=\"dataframe\">\n",
       "  <thead>\n",
       "    <tr style=\"text-align: right;\">\n",
       "      <th></th>\n",
       "      <th>Year</th>\n",
       "      <th>kms Driven</th>\n",
       "      <th>Fuel Type</th>\n",
       "      <th>Suspension</th>\n",
       "      <th>Price</th>\n",
       "      <th>Car Model</th>\n",
       "      <th>cluster</th>\n",
       "    </tr>\n",
       "  </thead>\n",
       "  <tbody>\n",
       "    <tr>\n",
       "      <th>0</th>\n",
       "      <td>2019</td>\n",
       "      <td>19006</td>\n",
       "      <td>Petrol</td>\n",
       "      <td>Automatic</td>\n",
       "      <td>929000.0</td>\n",
       "      <td>Honda City V CVT</td>\n",
       "      <td>1</td>\n",
       "    </tr>\n",
       "    <tr>\n",
       "      <th>1</th>\n",
       "      <td>2021</td>\n",
       "      <td>11936</td>\n",
       "      <td>Petrol</td>\n",
       "      <td>Automatic</td>\n",
       "      <td>1395000.0</td>\n",
       "      <td>Honda City ZX CVT</td>\n",
       "      <td>2</td>\n",
       "    </tr>\n",
       "    <tr>\n",
       "      <th>2</th>\n",
       "      <td>2018</td>\n",
       "      <td>29635</td>\n",
       "      <td>Petrol</td>\n",
       "      <td>Automatic</td>\n",
       "      <td>995000.0</td>\n",
       "      <td>Honda City i-VTEC CVT ZX</td>\n",
       "      <td>2</td>\n",
       "    </tr>\n",
       "    <tr>\n",
       "      <th>3</th>\n",
       "      <td>2020</td>\n",
       "      <td>16163</td>\n",
       "      <td>Petrol</td>\n",
       "      <td>Automatic</td>\n",
       "      <td>1326000.0</td>\n",
       "      <td>Honda City ZX CVT</td>\n",
       "      <td>2</td>\n",
       "    </tr>\n",
       "    <tr>\n",
       "      <th>4</th>\n",
       "      <td>2015</td>\n",
       "      <td>105114</td>\n",
       "      <td>Petrol</td>\n",
       "      <td>Manual</td>\n",
       "      <td>568000.0</td>\n",
       "      <td>Honda City i VTEC V</td>\n",
       "      <td>1</td>\n",
       "    </tr>\n",
       "  </tbody>\n",
       "</table>\n",
       "</div>"
      ],
      "text/plain": [
       "   Year  kms Driven Fuel Type Suspension      Price                 Car Model  \\\n",
       "0  2019       19006    Petrol  Automatic   929000.0          Honda City V CVT   \n",
       "1  2021       11936    Petrol  Automatic  1395000.0         Honda City ZX CVT   \n",
       "2  2018       29635    Petrol  Automatic   995000.0  Honda City i-VTEC CVT ZX   \n",
       "3  2020       16163    Petrol  Automatic  1326000.0         Honda City ZX CVT   \n",
       "4  2015      105114    Petrol     Manual   568000.0       Honda City i VTEC V   \n",
       "\n",
       "   cluster  \n",
       "0        1  \n",
       "1        2  \n",
       "2        2  \n",
       "3        2  \n",
       "4        1  "
      ]
     },
     "execution_count": 108,
     "metadata": {},
     "output_type": "execute_result"
    }
   ],
   "source": [
    "data['cluster']=y_predicted\n",
    "data.head()"
   ]
  },
  {
   "cell_type": "code",
   "execution_count": 109,
   "id": "c42369b1-56e8-418d-ba0b-cd459f46458d",
   "metadata": {},
   "outputs": [
    {
     "data": {
      "text/plain": [
       "array([[  81828.63870968,  315681.72043011],\n",
       "       [  53886.62637363,  671013.18681319],\n",
       "       [  43567.83544304, 1270645.56962025]])"
      ]
     },
     "execution_count": 109,
     "metadata": {},
     "output_type": "execute_result"
    }
   ],
   "source": [
    "km.cluster_centers_"
   ]
  },
  {
   "cell_type": "code",
   "execution_count": 110,
   "id": "b19338e7-80c8-46ea-9a6b-760ad171e17c",
   "metadata": {},
   "outputs": [
    {
     "data": {
      "text/plain": [
       "<matplotlib.legend.Legend at 0xb029dfafc0>"
      ]
     },
     "execution_count": 110,
     "metadata": {},
     "output_type": "execute_result"
    },
    {
     "data": {
      "image/png": "[encoded data removed]",
      "text/plain": [
       "<Figure size 640x480 with 1 Axes>"
      ]
     },
     "metadata": {},
     "output_type": "display_data"
    }
   ],
   "source": [
    "data1 = data[data.cluster==0]\n",
    "data2 = data[data.cluster==1]\n",
    "data3 = data[data.cluster==2]\n",
    "plt.scatter(data1['kms Driven'],data1['Price'],color='green')\n",
    "plt.scatter(data2['kms Driven'],data2['Price'],color='red')\n",
    "plt.scatter(data3['kms Driven'],data3['Price'],color='black')\n",
    "plt.scatter(km.cluster_centers_[:,0],km.cluster_centers_[:,1],color='purple',marker='*',label='centroid')\n",
    "plt.xlabel(['kms Driven'])\n",
    "plt.ylabel(['Price'])\n",
    "plt.legend()"
   ]
  },
  {
   "cell_type": "code",
   "execution_count": 111,
   "id": "951781a7-a969-4322-b098-573208424ef1",
   "metadata": {},
   "outputs": [
    {
     "data": {
      "text/plain": [
       "0      0.020459\n",
       "1      0.008556\n",
       "2      0.029784\n",
       "3      0.012189\n",
       "4      0.185060\n",
       "         ...   \n",
       "994    0.737705\n",
       "995    0.074118\n",
       "996    0.077912\n",
       "997    0.059016\n",
       "998    0.117803\n",
       "Length: 999, dtype: float64"
      ]
     },
     "execution_count": 111,
     "metadata": {},
     "output_type": "execute_result"
    }
   ],
   "source": [
    "penjualan_terbaik = data['kms Driven'] / data['Price']\n",
    "penjualan_terbaik"
   ]
  },
  {
   "cell_type": "code",
   "execution_count": 112,
   "id": "49a53d5e-dc1d-48d3-a7cc-10a7c43b5866",
   "metadata": {},
   "outputs": [
    {
     "name": "stderr",
     "output_type": "stream",
     "text": [
      "C:\\Users\\User\\miniconda3\\Lib\\site-packages\\sklearn\\cluster\\_kmeans.py:1419: UserWarning: KMeans is known to have a memory leak on Windows with MKL, when there are less chunks than available threads. You can avoid it by setting the environment variable OMP_NUM_THREADS=1.\n",
      "  warnings.warn(\n"
     ]
    },
    {
     "data": {
      "image/png": "[encoded data removed]",
      "text/plain": [
       "<Figure size 800x600 with 1 Axes>"
      ]
     },
     "metadata": {},
     "output_type": "display_data"
    }
   ],
   "source": [
    "#Load data set\n",
    "data = pd.DataFrame({\n",
    "    \"kms Driven\": [50000, 70000, 30000, 90000, 120000, 40000, 60000, 80000, 150000, 10000],\n",
    "    \"Price\": [400000, 600000, 800000, 300000, 200000, 700000, 500000, 450000, 150000, 900000]\n",
    "})\n",
    "\n",
    "#Data normalisation\n",
    "scaler = StandardScaler()\n",
    "data_scaled = scaler.fit_transform(data)  # Mengubah data agar memiliki distribusi yang lebih baik\n",
    "\n",
    "#K means with number of cluster=3\n",
    "kmeans = KMeans(n_clusters=3, random_state=42, n_init=10)\n",
    "data[\"cluster\"] = kmeans.fit_predict(data_scaled)\n",
    "\n",
    "#separate data by cluster\n",
    "data1 = data[data.cluster == 0]\n",
    "data2 = data[data.cluster == 1]\n",
    "data3 = data[data.cluster == 2]\n",
    "\n",
    "#Cluster Visualize\n",
    "plt.figure(figsize=(8, 6))\n",
    "plt.scatter(data1[\"kms Driven\"], data1[\"Price\"], color=\"green\", label=\"Cluster 0\")\n",
    "plt.scatter(data2[\"kms Driven\"], data2[\"Price\"], color=\"red\", label=\"Cluster 1\")\n",
    "plt.scatter(data3[\"kms Driven\"], data3[\"Price\"], color=\"black\", label=\"Cluster 2\")\n",
    "\n",
    "#show Centroid\n",
    "centroids = scaler.inverse_transform(kmeans.cluster_centers_)  # Konversi kembali jika data dinormalisasi\n",
    "plt.scatter(centroids[:, 0], centroids[:, 1], color=\"purple\", marker=\"*\", s=200, label=\"Centroids\")\n",
    "\n",
    "#Label Legend\n",
    "plt.xlabel(\"kms Driven\")\n",
    "plt.ylabel(\"Price\")\n",
    "plt.legend()\n",
    "plt.title(\"K-Means Clustering - kms Driven vs Price\")\n",
    "plt.show()\n"
   ]
  },
  {
   "cell_type": "code",
   "execution_count": null,
   "id": "534e749e-8754-42a9-8936-09c477be5cad",
   "metadata": {},
   "outputs": [],
   "source": []
  }
 ],
 "metadata": {
  "kernelspec": {
   "display_name": "Python 3 (ipykernel)",
   "language": "python",
   "name": "python3"
  },
  "language_info": {
   "codemirror_mode": {
    "name": "ipython",
    "version": 3
   },
   "file_extension": ".py",
   "mimetype": "text/x-python",
   "name": "python",
   "nbconvert_exporter": "python",
   "pygments_lexer": "ipython3",
   "version": "3.12.8"
  }
 },
 "nbformat": 4,
 "nbformat_minor": 5
}
